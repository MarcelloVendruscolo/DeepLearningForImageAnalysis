{
  "nbformat": 4,
  "nbformat_minor": 0,
  "metadata": {
    "colab": {
      "name": "cnn_assign3_exercise1.4.ipynb",
      "provenance": [],
      "collapsed_sections": []
    },
    "kernelspec": {
      "name": "python3",
      "display_name": "Python 3"
    },
    "language_info": {
      "name": "python"
    },
    "accelerator": "GPU"
  },
  "cells": [
    {
      "cell_type": "code",
      "metadata": {
        "id": "WBlnQpcC7PkT"
      },
      "source": [
        "import torch\n",
        "import torch.nn as nn\n",
        "import torch.nn.functional as F\n",
        "import torch.optim as optim\n",
        "import torchvision\n",
        "import torchvision.transforms as transforms\n",
        "import numpy as np\n",
        "import matplotlib.pyplot as plt\n",
        "import urllib.request\n",
        "\n",
        "# use GPU for computations if possible\n",
        "device = torch.device('cuda' if torch.cuda.is_available() else 'cpu')"
      ],
      "execution_count": 1,
      "outputs": []
    },
    {
      "cell_type": "code",
      "metadata": {
        "id": "VNfe4IhM7Z41",
        "colab": {
          "base_uri": "https://localhost:8080/"
        },
        "outputId": "ed41770e-5c3a-45ea-e7e8-cf25b1771709"
      },
      "source": [
        "opener = urllib.request.build_opener()\n",
        "urllib.request.install_opener(opener)\n",
        "\n",
        "# Access the datasets from torchvision\n",
        "training_dataset = torchvision.datasets.MNIST(root = './data', train = True, download = True, transform = transforms.ToTensor())\n",
        "test_dataset = torchvision.datasets.MNIST(root = './data', train = False, download = True, transform = transforms.ToTensor())"
      ],
      "execution_count": 2,
      "outputs": [
        {
          "output_type": "stream",
          "name": "stderr",
          "text": [
            "/usr/local/lib/python3.7/dist-packages/torchvision/datasets/mnist.py:498: UserWarning: The given NumPy array is not writeable, and PyTorch does not support non-writeable tensors. This means you can write to the underlying (supposedly non-writeable) NumPy array using the tensor. You may want to copy the array to protect its data or make it writeable before converting it to a tensor. This type of warning will be suppressed for the rest of this program. (Triggered internally at  /pytorch/torch/csrc/utils/tensor_numpy.cpp:180.)\n",
            "  return torch.from_numpy(parsed.astype(m[2], copy=False)).view(*s)\n"
          ]
        }
      ]
    },
    {
      "cell_type": "code",
      "metadata": {
        "id": "EcDSmx887dzn"
      },
      "source": [
        "class ConvolutionalNeuralNetwork(nn.Module):\n",
        "  def __init__(self):\n",
        "    super(ConvolutionalNeuralNetwork, self).__init__()\n",
        "    self.conv1 = nn.Conv2d(in_channels=1, out_channels=8, kernel_size=3, stride=1, padding=1, bias=True, padding_mode='reflect')\n",
        "    self.conv2 = nn.Conv2d(in_channels=8, out_channels=16, kernel_size=3, stride=1, padding=1, bias=True, padding_mode='reflect')\n",
        "    self.conv3 = nn.Conv2d(in_channels=16, out_channels=32, kernel_size=3, stride=1, padding=1, bias=True, padding_mode='reflect')\n",
        "    self.maxpool = nn.MaxPool2d(kernel_size=2, stride=2, padding=0)\n",
        "    self.fc1 = nn.Linear(in_features=7*7*32, out_features=10, bias=True)\n",
        "    self.flatten = nn.Flatten()\n",
        "    self.sm = nn.Softmax(dim=1)\n",
        "\n",
        "  def forward(self, x):\n",
        "    x = self.maxpool(self.conv1(x))\n",
        "    x = F.relu(x)\n",
        "    x = self.maxpool(self.conv2(x))\n",
        "    x = F.relu(x)\n",
        "    x = F.relu(self.conv3(x))\n",
        "    x = self.flatten(x)\n",
        "    x = self.fc1(x)\n",
        "    return self.sm(x)"
      ],
      "execution_count": 3,
      "outputs": []
    },
    {
      "cell_type": "code",
      "metadata": {
        "id": "kUYiAmG2TTPY"
      },
      "source": [
        "def accuracy(predictions, Y):\n",
        "    return (predictions.argmax(dim=1) == Y).float().mean()"
      ],
      "execution_count": 4,
      "outputs": []
    },
    {
      "cell_type": "code",
      "metadata": {
        "id": "4nGAh0LzcbEG"
      },
      "source": [
        "def plot_cost_iteration(training_loss, test_loss, epochs):\n",
        "    plt.plot(np.arange(start=0, stop=epochs, step= 1), training_loss, label='Training data')\n",
        "    plt.plot(np.arange(start=0, stop=epochs, step= 1), test_loss, label='Test data')\n",
        "    plt.xlabel('Iteration')\n",
        "    plt.ylabel('Cost')\n",
        "    plt.title('Cost per Iteration')\n",
        "    plt.legend()\n",
        "    plt.show()"
      ],
      "execution_count": 5,
      "outputs": []
    },
    {
      "cell_type": "code",
      "metadata": {
        "id": "YJYiZYqRcrfq"
      },
      "source": [
        "def plot_accuracy_iteration(training_accuracy, test_accuracy, epochs):\n",
        "    plt.plot(np.arange(start=1, stop=epochs+1, step= 1), training_accuracy, label='Training data')\n",
        "    plt.plot(np.arange(start=1, stop=epochs+1, step= 1), test_accuracy, label='Test data')\n",
        "    plt.xlabel('Iteration')\n",
        "    plt.ylabel('Accuracy')\n",
        "    plt.title('Accuracy per Iteration')\n",
        "    plt.legend()\n",
        "    plt.show()"
      ],
      "execution_count": 6,
      "outputs": []
    },
    {
      "cell_type": "code",
      "metadata": {
        "id": "B-M1vNVevM9j"
      },
      "source": [
        "def compute_confusion_matrix(predictions, true_labels):\n",
        "  predictions = predictions.argmax(dim=1)\n",
        "  matrix = np.zeros(shape=(10,10))\n",
        "  for datapoint in range(0,len(true_labels)):\n",
        "    prediction = predictions[datapoint]\n",
        "    true_class = true_labels[datapoint]\n",
        "    matrix[prediction,true_class] += 1\n",
        "  return matrix"
      ],
      "execution_count": 7,
      "outputs": []
    },
    {
      "cell_type": "code",
      "metadata": {
        "id": "xNtguUp6-iVU",
        "colab": {
          "base_uri": "https://localhost:8080/",
          "height": 712
        },
        "outputId": "48c43fae-39ea-4869-decc-cb2f16f3893d"
      },
      "source": [
        "# Initialise hyperparameters\n",
        "minibatch_size = 32\n",
        "learning_rate = 0.001\n",
        "epochs = 25\n",
        "\n",
        "# Data structures to hold accuracy and loss values throughout the iterations\n",
        "training_accuracy = []\n",
        "training_loss = []\n",
        "test_accuracy = []\n",
        "test_loss = []\n",
        "\n",
        "# Load the test dataset without shuffling\n",
        "test_dataLoader = torch.utils.data.DataLoader(test_dataset, batch_size=len(test_dataset), shuffle=False)\n",
        "\n",
        "cnn = ConvolutionalNeuralNetwork()\n",
        "cnn.to(device)\n",
        "\n",
        "# Use Adam optimiser\n",
        "optimiser = optim.Adam(cnn.parameters(), lr=learning_rate)\n",
        "loss_funtion = nn.CrossEntropyLoss()\n",
        "\n",
        "# Training\n",
        "for epoch in range(0, epochs):\n",
        "    epoch_loss = 0\n",
        "    epoch_accuracy = 0\n",
        "\n",
        "    # Load the training dataset using batches and shuffling\n",
        "    train_dataLoader = torch.utils.data.DataLoader(training_dataset, batch_size=minibatch_size, shuffle=True)\n",
        "    dataset_size = len(train_dataLoader.dataset)\n",
        "\n",
        "    for (x_batch, y_batch) in train_dataLoader:\n",
        "      x_batch, y_batch = x_batch.to(device), y_batch.to(device)\n",
        "      optimiser.zero_grad()\n",
        "      predictions = cnn(x_batch) # Forward pass on training batch\n",
        "      batch_accuracy = accuracy(predictions, y_batch) # Compute accuracy on training batch\n",
        "      epoch_accuracy += batch_accuracy.item()\n",
        "      loss = loss_funtion(predictions, y_batch) # Compute loss on training batch\n",
        "      batch_loss = loss.item()\n",
        "      epoch_loss += batch_loss\n",
        "      loss.backward() # Back propagation\n",
        "      optimiser.step() # Parameters update\n",
        "\n",
        "    training_accuracy.append(epoch_accuracy / len(train_dataLoader))\n",
        "    training_loss.append(epoch_loss / len(train_dataLoader))\n",
        "\n",
        "    with torch.no_grad():\n",
        "      for (x_test, y_test) in test_dataLoader:\n",
        "        x_test, y_test = x_test.to(device), y_test.to(device)\n",
        "        predictions = cnn(x_test) # Forward pass on test dataset\n",
        "        test_accuracy.append(accuracy(predictions, y_test).item()) # Compute accuracy on test dataset\n",
        "        test_loss.append(loss_funtion(predictions, y_test).item()) # Compute loss on test dataset\n",
        "    \n",
        "    if (epoch + 1) % 5 == 0:\n",
        "      print(f'Epoch {epoch+1:5d}: train loss {training_loss[-1]:5.2f} train accuracy {100*training_accuracy[-1]:6.2f} '\\\n",
        "            f'test loss {test_loss[-1]:5.2f} test accuracy {100*test_accuracy[-1]:6.2f}')\n",
        "\n",
        "# Plotting\n",
        "plot_cost_iteration(training_loss, test_loss, epochs)\n",
        "plot_accuracy_iteration(training_accuracy, test_accuracy, epochs)"
      ],
      "execution_count": 8,
      "outputs": [
        {
          "output_type": "stream",
          "name": "stderr",
          "text": [
            "/usr/local/lib/python3.7/dist-packages/torch/nn/functional.py:718: UserWarning: Named tensors and all their associated APIs are an experimental feature and subject to change. Please do not use them for anything important until they are released as stable. (Triggered internally at  /pytorch/c10/core/TensorImpl.h:1156.)\n",
            "  return torch.max_pool2d(input, kernel_size, stride, padding, dilation, ceil_mode)\n"
          ]
        },
        {
          "output_type": "stream",
          "name": "stdout",
          "text": [
            "Epoch     5: train loss  1.48 train accuracy  98.24 test loss  1.48 test accuracy  98.34\n",
            "Epoch    10: train loss  1.47 train accuracy  98.79 test loss  1.48 test accuracy  98.65\n",
            "Epoch    15: train loss  1.47 train accuracy  98.97 test loss  1.47 test accuracy  98.83\n",
            "Epoch    20: train loss  1.47 train accuracy  99.11 test loss  1.47 test accuracy  98.86\n",
            "Epoch    25: train loss  1.47 train accuracy  99.16 test loss  1.47 test accuracy  98.78\n"
          ]
        },
        {
          "output_type": "display_data",
          "data": {
            "image/png": "[encoded data removed]",
            "text/plain": [
              "<Figure size 432x288 with 1 Axes>"
            ]
          },
          "metadata": {
            "needs_background": "light"
          }
        },
        {
          "output_type": "display_data",
          "data": {
            "image/png": "[encoded data removed]",
            "text/plain": [
              "<Figure size 432x288 with 1 Axes>"
            ]
          },
          "metadata": {
            "needs_background": "light"
          }
        }
      ]
    },
    {
      "cell_type": "code",
      "metadata": {
        "id": "-9CzVmjrfZ3k",
        "colab": {
          "base_uri": "https://localhost:8080/"
        },
        "outputId": "23bffbf8-d085-4ab8-824c-841f1feea487"
      },
      "source": [
        "with torch.no_grad():\n",
        "  for (x_test, y_test) in test_dataLoader:\n",
        "    x_test, y_test = x_test.to(device), y_test.to(device)\n",
        "    predictions = cnn(x_test) # Forward pass on test dataset\n",
        "    confusion_matrix = compute_confusion_matrix(predictions, y_test)\n",
        "    for row in range(0, 10):\n",
        "      for col in range(0, 10):\n",
        "        print(f'{int(confusion_matrix[row,col]):6d}', end = \" \")\n",
        "      print('\\n')"
      ],
      "execution_count": 9,
      "outputs": [
        {
          "output_type": "stream",
          "name": "stdout",
          "text": [
            "   977      0      1      1      0      1      7      0      4      2 \n",
            "\n",
            "     0   1130      0      0      0      0      3      4      0      3 \n",
            "\n",
            "     0      2   1025      5      0      0      1     12      2      2 \n",
            "\n",
            "     0      0      0    998      0      7      0      1      1      3 \n",
            "\n",
            "     0      1      0      0    980      0      2      0      1     11 \n",
            "\n",
            "     0      0      0      3      0    882      5      0      3      3 \n",
            "\n",
            "     1      1      0      0      0      1    939      0      0      0 \n",
            "\n",
            "     1      1      3      2      0      0      0   1009      0      6 \n",
            "\n",
            "     1      0      3      1      0      0      1      1    961      2 \n",
            "\n",
            "     0      0      0      0      2      1      0      1      2    977 \n",
            "\n"
          ]
        }
      ]
    },
    {
      "cell_type": "code",
      "metadata": {
        "id": "q-2ijUawqTEW"
      },
      "source": [
        "misclassification_indices = []\n",
        "for (x_test, y_test) in test_dataLoader:\n",
        "  x_test, y_test = x_test.to(device), y_test.to(device)\n",
        "  predictions = cnn(x_test)\n",
        "  predictions = predictions.argmax(dim=1)\n",
        "  for datapoint in range(0,len(y_test)):\n",
        "    prediction = predictions[datapoint]\n",
        "    true_class = y_test[datapoint]\n",
        "    if prediction != true_class:\n",
        "      misclassification_indices.append(datapoint)"
      ],
      "execution_count": 10,
      "outputs": []
    },
    {
      "cell_type": "code",
      "metadata": {
        "id": "tRaEMnu6rD_K",
        "colab": {
          "base_uri": "https://localhost:8080/",
          "height": 333
        },
        "outputId": "a25580d1-63bd-467e-ba2c-18ebe548f150"
      },
      "source": [
        "index = 42\n",
        "print(f'True label: {y_test[misclassification_indices[index]].item()}')\n",
        "print(f'Prediction: {predictions[misclassification_indices[index]].item()}')\n",
        "print('Corresponding input image:')\n",
        "plt.imshow(x_test[misclassification_indices[index]].cpu().squeeze())"
      ],
      "execution_count": 20,
      "outputs": [
        {
          "output_type": "stream",
          "name": "stdout",
          "text": [
            "True label: 5\n",
            "Prediction: 3\n",
            "Corresponding input image:\n"
          ]
        },
        {
          "output_type": "execute_result",
          "data": {
            "text/plain": [
              "<matplotlib.image.AxesImage at 0x7f3fede77190>"
            ]
          },
          "metadata": {},
          "execution_count": 20
        },
        {
          "output_type": "display_data",
          "data": {
            "image/png": "[encoded data removed]",
            "text/plain": [
              "<Figure size 432x288 with 1 Axes>"
            ]
          },
          "metadata": {
            "needs_background": "light"
          }
        }
      ]
    }
  ]
}